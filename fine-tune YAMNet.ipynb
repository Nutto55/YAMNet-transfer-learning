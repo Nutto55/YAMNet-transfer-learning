{
 "cells": [
  {
   "cell_type": "code",
   "execution_count": 1,
   "metadata": {},
   "outputs": [],
   "source": [
    "import os\n",
    "import json\n",
    "os.sys.path.append('./audioset/yamnet')\n",
    "import yamnet as yamnet_model\n",
    "import params\n",
    "from datagen_yamnet import DataGenerator, get_files_and_labels\n",
    "\n",
    "import tensorflow as tf\n",
    "from tensorflow.keras.models import Model\n",
    "from tensorflow.keras.callbacks import ModelCheckpoint, ReduceLROnPlateau\n",
    "\n",
    "\n",
    "# Directory storing the spectrogram inputs for each class\n",
    "train_dir = './train_set_patches/'\n",
    "\n",
    "# Path to output model\n",
    "model_out = './saved_models/model'\n"
   ]
  },
  {
   "cell_type": "markdown",
   "metadata": {},
   "source": [
    "#### Get training data files and labels"
   ]
  },
  {
   "cell_type": "code",
   "execution_count": 2,
   "metadata": {},
   "outputs": [],
   "source": [
    "files_train, labels_train, files_val, labels_val, class_dict = get_files_and_labels(train_dir, typ='npy')\n",
    "class_dict_rev = {(str(v[0])): k for k, v in class_dict.items()}\n"
   ]
  },
  {
   "cell_type": "markdown",
   "metadata": {},
   "source": [
    "#### Load pre-trained YAMNet"
   ]
  },
  {
   "cell_type": "code",
   "execution_count": 3,
   "metadata": {},
   "outputs": [],
   "source": [
    "yamnet = yamnet_model.yamnet_model()\n",
    "yamnet.load_weights('./audioset/yamnet/yamnet.h5')"
   ]
  },
  {
   "cell_type": "code",
   "execution_count": 4,
   "metadata": {},
   "outputs": [],
   "source": [
    "# yamnet.summary()"
   ]
  },
  {
   "cell_type": "markdown",
   "metadata": {},
   "source": [
    "#### Define custom \"top\" of YAMNet graph"
   ]
  },
  {
   "cell_type": "code",
   "execution_count": 5,
   "metadata": {
    "scrolled": true
   },
   "outputs": [
    {
     "name": "stdout",
     "output_type": "stream",
     "text": [
      "Model: \"model\"\n",
      "_________________________________________________________________\n",
      "Layer (type)                 Output Shape              Param #   \n",
      "=================================================================\n",
      "input_1 (InputLayer)         [(None, 96, 64)]          0         \n",
      "_________________________________________________________________\n",
      "reshape (Reshape)            (None, 96, 64, 1)         0         \n",
      "_________________________________________________________________\n",
      "layer1/conv (Conv2D)         (None, 48, 32, 32)        288       \n",
      "_________________________________________________________________\n",
      "layer1/conv/bn (BatchNormali (None, 48, 32, 32)        96        \n",
      "_________________________________________________________________\n",
      "layer1/relu (ReLU)           (None, 48, 32, 32)        0         \n",
      "_________________________________________________________________\n",
      "layer2/depthwise_conv (Depth (None, 48, 32, 32)        288       \n",
      "_________________________________________________________________\n",
      "layer2/depthwise_conv/bn (Ba (None, 48, 32, 32)        96        \n",
      "_________________________________________________________________\n",
      "layer2/depthwise_conv/relu ( (None, 48, 32, 32)        0         \n",
      "_________________________________________________________________\n",
      "layer2/pointwise_conv (Conv2 (None, 48, 32, 64)        2048      \n",
      "_________________________________________________________________\n",
      "layer2/pointwise_conv/bn (Ba (None, 48, 32, 64)        192       \n",
      "_________________________________________________________________\n",
      "layer2/pointwise_conv/relu ( (None, 48, 32, 64)        0         \n",
      "_________________________________________________________________\n",
      "layer3/depthwise_conv (Depth (None, 24, 16, 64)        576       \n",
      "_________________________________________________________________\n",
      "layer3/depthwise_conv/bn (Ba (None, 24, 16, 64)        192       \n",
      "_________________________________________________________________\n",
      "layer3/depthwise_conv/relu ( (None, 24, 16, 64)        0         \n",
      "_________________________________________________________________\n",
      "layer3/pointwise_conv (Conv2 (None, 24, 16, 128)       8192      \n",
      "_________________________________________________________________\n",
      "layer3/pointwise_conv/bn (Ba (None, 24, 16, 128)       384       \n",
      "_________________________________________________________________\n",
      "layer3/pointwise_conv/relu ( (None, 24, 16, 128)       0         \n",
      "_________________________________________________________________\n",
      "layer4/depthwise_conv (Depth (None, 24, 16, 128)       1152      \n",
      "_________________________________________________________________\n",
      "layer4/depthwise_conv/bn (Ba (None, 24, 16, 128)       384       \n",
      "_________________________________________________________________\n",
      "layer4/depthwise_conv/relu ( (None, 24, 16, 128)       0         \n",
      "_________________________________________________________________\n",
      "layer4/pointwise_conv (Conv2 (None, 24, 16, 128)       16384     \n",
      "_________________________________________________________________\n",
      "layer4/pointwise_conv/bn (Ba (None, 24, 16, 128)       384       \n",
      "_________________________________________________________________\n",
      "layer4/pointwise_conv/relu ( (None, 24, 16, 128)       0         \n",
      "_________________________________________________________________\n",
      "layer5/depthwise_conv (Depth (None, 12, 8, 128)        1152      \n",
      "_________________________________________________________________\n",
      "layer5/depthwise_conv/bn (Ba (None, 12, 8, 128)        384       \n",
      "_________________________________________________________________\n",
      "layer5/depthwise_conv/relu ( (None, 12, 8, 128)        0         \n",
      "_________________________________________________________________\n",
      "layer5/pointwise_conv (Conv2 (None, 12, 8, 256)        32768     \n",
      "_________________________________________________________________\n",
      "layer5/pointwise_conv/bn (Ba (None, 12, 8, 256)        768       \n",
      "_________________________________________________________________\n",
      "layer5/pointwise_conv/relu ( (None, 12, 8, 256)        0         \n",
      "_________________________________________________________________\n",
      "layer6/depthwise_conv (Depth (None, 12, 8, 256)        2304      \n",
      "_________________________________________________________________\n",
      "layer6/depthwise_conv/bn (Ba (None, 12, 8, 256)        768       \n",
      "_________________________________________________________________\n",
      "layer6/depthwise_conv/relu ( (None, 12, 8, 256)        0         \n",
      "_________________________________________________________________\n",
      "layer6/pointwise_conv (Conv2 (None, 12, 8, 256)        65536     \n",
      "_________________________________________________________________\n",
      "layer6/pointwise_conv/bn (Ba (None, 12, 8, 256)        768       \n",
      "_________________________________________________________________\n",
      "layer6/pointwise_conv/relu ( (None, 12, 8, 256)        0         \n",
      "_________________________________________________________________\n",
      "layer7/depthwise_conv (Depth (None, 6, 4, 256)         2304      \n",
      "_________________________________________________________________\n",
      "layer7/depthwise_conv/bn (Ba (None, 6, 4, 256)         768       \n",
      "_________________________________________________________________\n",
      "layer7/depthwise_conv/relu ( (None, 6, 4, 256)         0         \n",
      "_________________________________________________________________\n",
      "layer7/pointwise_conv (Conv2 (None, 6, 4, 512)         131072    \n",
      "_________________________________________________________________\n",
      "layer7/pointwise_conv/bn (Ba (None, 6, 4, 512)         1536      \n",
      "_________________________________________________________________\n",
      "layer7/pointwise_conv/relu ( (None, 6, 4, 512)         0         \n",
      "_________________________________________________________________\n",
      "layer8/depthwise_conv (Depth (None, 6, 4, 512)         4608      \n",
      "_________________________________________________________________\n",
      "layer8/depthwise_conv/bn (Ba (None, 6, 4, 512)         1536      \n",
      "_________________________________________________________________\n",
      "layer8/depthwise_conv/relu ( (None, 6, 4, 512)         0         \n",
      "_________________________________________________________________\n",
      "layer8/pointwise_conv (Conv2 (None, 6, 4, 512)         262144    \n",
      "_________________________________________________________________\n",
      "layer8/pointwise_conv/bn (Ba (None, 6, 4, 512)         1536      \n",
      "_________________________________________________________________\n",
      "layer8/pointwise_conv/relu ( (None, 6, 4, 512)         0         \n",
      "_________________________________________________________________\n",
      "layer9/depthwise_conv (Depth (None, 6, 4, 512)         4608      \n",
      "_________________________________________________________________\n",
      "layer9/depthwise_conv/bn (Ba (None, 6, 4, 512)         1536      \n",
      "_________________________________________________________________\n",
      "layer9/depthwise_conv/relu ( (None, 6, 4, 512)         0         \n",
      "_________________________________________________________________\n",
      "layer9/pointwise_conv (Conv2 (None, 6, 4, 512)         262144    \n",
      "_________________________________________________________________\n",
      "layer9/pointwise_conv/bn (Ba (None, 6, 4, 512)         1536      \n",
      "_________________________________________________________________\n",
      "layer9/pointwise_conv/relu ( (None, 6, 4, 512)         0         \n",
      "_________________________________________________________________\n",
      "layer10/depthwise_conv (Dept (None, 6, 4, 512)         4608      \n",
      "_________________________________________________________________\n",
      "layer10/depthwise_conv/bn (B (None, 6, 4, 512)         1536      \n",
      "_________________________________________________________________\n",
      "layer10/depthwise_conv/relu  (None, 6, 4, 512)         0         \n",
      "_________________________________________________________________\n",
      "layer10/pointwise_conv (Conv (None, 6, 4, 512)         262144    \n",
      "_________________________________________________________________\n",
      "layer10/pointwise_conv/bn (B (None, 6, 4, 512)         1536      \n",
      "_________________________________________________________________\n",
      "layer10/pointwise_conv/relu  (None, 6, 4, 512)         0         \n",
      "_________________________________________________________________\n",
      "layer11/depthwise_conv (Dept (None, 6, 4, 512)         4608      \n",
      "_________________________________________________________________\n",
      "layer11/depthwise_conv/bn (B (None, 6, 4, 512)         1536      \n",
      "_________________________________________________________________\n",
      "layer11/depthwise_conv/relu  (None, 6, 4, 512)         0         \n",
      "_________________________________________________________________\n",
      "layer11/pointwise_conv (Conv (None, 6, 4, 512)         262144    \n",
      "_________________________________________________________________\n",
      "layer11/pointwise_conv/bn (B (None, 6, 4, 512)         1536      \n",
      "_________________________________________________________________\n",
      "layer11/pointwise_conv/relu  (None, 6, 4, 512)         0         \n",
      "_________________________________________________________________\n",
      "layer12/depthwise_conv (Dept (None, 6, 4, 512)         4608      \n",
      "_________________________________________________________________\n",
      "layer12/depthwise_conv/bn (B (None, 6, 4, 512)         1536      \n",
      "_________________________________________________________________\n",
      "layer12/depthwise_conv/relu  (None, 6, 4, 512)         0         \n",
      "_________________________________________________________________\n",
      "layer12/pointwise_conv (Conv (None, 6, 4, 512)         262144    \n",
      "_________________________________________________________________\n",
      "layer12/pointwise_conv/bn (B (None, 6, 4, 512)         1536      \n",
      "_________________________________________________________________\n",
      "layer12/pointwise_conv/relu  (None, 6, 4, 512)         0         \n",
      "_________________________________________________________________\n",
      "layer13/depthwise_conv (Dept (None, 3, 2, 512)         4608      \n",
      "_________________________________________________________________\n",
      "layer13/depthwise_conv/bn (B (None, 3, 2, 512)         1536      \n",
      "_________________________________________________________________\n",
      "layer13/depthwise_conv/relu  (None, 3, 2, 512)         0         \n",
      "_________________________________________________________________\n",
      "layer13/pointwise_conv (Conv (None, 3, 2, 1024)        524288    \n",
      "_________________________________________________________________\n",
      "layer13/pointwise_conv/bn (B (None, 3, 2, 1024)        3072      \n",
      "_________________________________________________________________\n",
      "layer13/pointwise_conv/relu  (None, 3, 2, 1024)        0         \n",
      "_________________________________________________________________\n",
      "layer14/depthwise_conv (Dept (None, 3, 2, 1024)        9216      \n",
      "_________________________________________________________________\n",
      "layer14/depthwise_conv/bn (B (None, 3, 2, 1024)        3072      \n",
      "_________________________________________________________________\n",
      "layer14/depthwise_conv/relu  (None, 3, 2, 1024)        0         \n",
      "_________________________________________________________________\n",
      "layer14/pointwise_conv (Conv (None, 3, 2, 1024)        1048576   \n",
      "_________________________________________________________________\n",
      "layer14/pointwise_conv/bn (B (None, 3, 2, 1024)        3072      \n",
      "_________________________________________________________________\n",
      "layer14/pointwise_conv/relu  (None, 3, 2, 1024)        0         \n",
      "_________________________________________________________________\n",
      "global_average_pooling2d (Gl (None, 1024)              0         \n",
      "_________________________________________________________________\n",
      "dense_1 (Dense)              (None, 64)                65600     \n",
      "_________________________________________________________________\n",
      "dropout (Dropout)            (None, 64)                0         \n",
      "_________________________________________________________________\n",
      "dense_2 (Dense)              (None, 2)                 130       \n",
      "=================================================================\n",
      "Total params: 3,283,074\n",
      "Trainable params: 3,261,186\n",
      "Non-trainable params: 21,888\n",
      "_________________________________________________________________\n"
     ]
    }
   ],
   "source": [
    "inpts = tf.keras.layers.Input(shape=(params.PATCH_FRAMES, params.PATCH_BANDS))\n",
    "\n",
    "x = tf.keras.layers.Dense(64, activation='relu')(yamnet.layers[-3].output)\n",
    "o = tf.keras.layers.Dropout(0.5)(x)\n",
    "o = tf.keras.layers.Dense(2, activation='softmax')(o)\n",
    "\n",
    "model = Model(inputs=yamnet.input, outputs=o)\n",
    "\n",
    "for layer in model.layers:\n",
    "    layer.trainable = True\n",
    "\n",
    "optimizer = tf.keras.optimizers.Adam(lr=0.0001, decay=1e-7)\n",
    "model.compile(loss='categorical_crossentropy', optimizer=optimizer, metrics=['accuracy'])\n",
    "\n",
    "model.summary()"
   ]
  },
  {
   "cell_type": "markdown",
   "metadata": {},
   "source": [
    "#### Initialize data generators"
   ]
  },
  {
   "cell_type": "code",
   "execution_count": 6,
   "metadata": {},
   "outputs": [],
   "source": [
    "batch_size = 32\n",
    "\n",
    "train_generator = DataGenerator(files_train,\n",
    "                                labels_train,\n",
    "                                batch_size=batch_size)\n",
    "validation_generator = DataGenerator(files_val,\n",
    "                                    labels_val,\n",
    "                                    batch_size=batch_size)"
   ]
  },
  {
   "cell_type": "markdown",
   "metadata": {},
   "source": [
    "#### Define training hyperparameters"
   ]
  },
  {
   "cell_type": "code",
   "execution_count": 7,
   "metadata": {
    "scrolled": false
   },
   "outputs": [
    {
     "name": "stdout",
     "output_type": "stream",
     "text": [
      "Saved model architecture\n"
     ]
    }
   ],
   "source": [
    "# Save model architecture\n",
    "model_json = model.to_json()\n",
    "with open(model_out+'.json', \"w\") as json_file:\n",
    "    json_file.write(model_json)\n",
    "with open(model_out+'_classes.json', 'w') as f:\n",
    "    json.dump(class_dict, f)\n",
    "print('Saved model architecture')\n",
    "\n",
    "# Define training callbacks\n",
    "checkpoint = ModelCheckpoint(model_out+'.h5',\n",
    "                             monitor='val_loss', \n",
    "                             verbose=1,\n",
    "                             save_best_only=True, \n",
    "                             mode='auto')\n",
    "\n",
    "reducelr = ReduceLROnPlateau(monitor='val_loss', \n",
    "                              factor=0.5, \n",
    "                              patience=3, \n",
    "                              verbose=1)\n",
    "\n",
    "# Compile model\n",
    "optimizer = tf.keras.optimizers.Adam(lr=0.0001)\n",
    "model.compile(loss='binary_crossentropy', optimizer=optimizer)\n",
    "    "
   ]
  },
  {
   "cell_type": "markdown",
   "metadata": {},
   "source": [
    "#### Train"
   ]
  },
  {
   "cell_type": "code",
   "execution_count": 8,
   "metadata": {},
   "outputs": [
    {
     "name": "stdout",
     "output_type": "stream",
     "text": [
      "Epoch 1/20\n",
      "7/8 [=========================>....] - ETA: 0s - loss: 0.5396\n",
      "Epoch 00001: val_loss improved from inf to 0.75930, saving model to ./saved_models/model.h5\n",
      "8/8 [==============================] - 1s 112ms/step - loss: 0.5359 - val_loss: 0.7593 - lr: 1.0000e-04\n",
      "Epoch 2/20\n",
      "7/8 [=========================>....] - ETA: 0s - loss: 0.9309\n",
      "Epoch 00002: val_loss improved from 0.75930 to 0.69859, saving model to ./saved_models/model.h5\n",
      "8/8 [==============================] - 0s 62ms/step - loss: 0.8403 - val_loss: 0.6986 - lr: 1.0000e-04\n",
      "Epoch 3/20\n",
      "7/8 [=========================>....] - ETA: 0s - loss: 0.8849\n",
      "Epoch 00003: val_loss improved from 0.69859 to 0.68723, saving model to ./saved_models/model.h5\n",
      "8/8 [==============================] - 0s 60ms/step - loss: 0.8838 - val_loss: 0.6872 - lr: 1.0000e-04\n",
      "Epoch 4/20\n",
      "7/8 [=========================>....] - ETA: 0s - loss: 0.6273\n",
      "Epoch 00004: val_loss did not improve from 0.68723\n",
      "8/8 [==============================] - 0s 33ms/step - loss: 0.6696 - val_loss: 0.7041 - lr: 1.0000e-04\n",
      "Epoch 5/20\n",
      "7/8 [=========================>....] - ETA: 0s - loss: 0.4794\n",
      "Epoch 00005: val_loss did not improve from 0.68723\n",
      "8/8 [==============================] - 0s 33ms/step - loss: 0.4876 - val_loss: 0.7240 - lr: 1.0000e-04\n",
      "Epoch 6/20\n",
      "7/8 [=========================>....] - ETA: 0s - loss: 0.7274\n",
      "Epoch 00006: val_loss did not improve from 0.68723\n",
      "\n",
      "Epoch 00006: ReduceLROnPlateau reducing learning rate to 4.999999873689376e-05.\n",
      "8/8 [==============================] - 0s 33ms/step - loss: 0.6770 - val_loss: 0.7320 - lr: 1.0000e-04\n",
      "Epoch 7/20\n",
      "7/8 [=========================>....] - ETA: 0s - loss: 0.4980\n",
      "Epoch 00007: val_loss did not improve from 0.68723\n",
      "8/8 [==============================] - 0s 33ms/step - loss: 0.4825 - val_loss: 0.7301 - lr: 5.0000e-05\n",
      "Epoch 8/20\n",
      "7/8 [=========================>....] - ETA: 0s - loss: 0.6257\n",
      "Epoch 00008: val_loss did not improve from 0.68723\n",
      "8/8 [==============================] - 0s 33ms/step - loss: 0.5891 - val_loss: 0.7212 - lr: 5.0000e-05\n",
      "Epoch 9/20\n",
      "7/8 [=========================>....] - ETA: 0s - loss: 0.3982\n",
      "Epoch 00009: val_loss did not improve from 0.68723\n",
      "\n",
      "Epoch 00009: ReduceLROnPlateau reducing learning rate to 2.499999936844688e-05.\n",
      "8/8 [==============================] - 0s 33ms/step - loss: 0.4419 - val_loss: 0.7081 - lr: 5.0000e-05\n",
      "Epoch 10/20\n",
      "7/8 [=========================>....] - ETA: 0s - loss: 0.3856\n",
      "Epoch 00010: val_loss did not improve from 0.68723\n",
      "8/8 [==============================] - 0s 32ms/step - loss: 0.3908 - val_loss: 0.7010 - lr: 2.5000e-05\n",
      "Epoch 11/20\n",
      "7/8 [=========================>....] - ETA: 0s - loss: 0.4510\n",
      "Epoch 00011: val_loss did not improve from 0.68723\n",
      "8/8 [==============================] - 0s 33ms/step - loss: 0.4565 - val_loss: 0.6933 - lr: 2.5000e-05\n",
      "Epoch 12/20\n",
      "7/8 [=========================>....] - ETA: 0s - loss: 0.2656\n",
      "Epoch 00012: val_loss improved from 0.68723 to 0.67832, saving model to ./saved_models/model.h5\n",
      "8/8 [==============================] - 0s 60ms/step - loss: 0.2812 - val_loss: 0.6783 - lr: 2.5000e-05\n",
      "Epoch 13/20\n",
      "7/8 [=========================>....] - ETA: 0s - loss: 0.2814\n",
      "Epoch 00013: val_loss improved from 0.67832 to 0.67708, saving model to ./saved_models/model.h5\n",
      "8/8 [==============================] - 0s 60ms/step - loss: 0.2657 - val_loss: 0.6771 - lr: 2.5000e-05\n",
      "Epoch 14/20\n",
      "7/8 [=========================>....] - ETA: 0s - loss: 0.2175\n",
      "Epoch 00014: val_loss improved from 0.67708 to 0.66830, saving model to ./saved_models/model.h5\n",
      "8/8 [==============================] - 0s 60ms/step - loss: 0.2197 - val_loss: 0.6683 - lr: 2.5000e-05\n",
      "Epoch 15/20\n",
      "7/8 [=========================>....] - ETA: 0s - loss: 0.1806\n",
      "Epoch 00015: val_loss improved from 0.66830 to 0.65219, saving model to ./saved_models/model.h5\n",
      "8/8 [==============================] - 0s 61ms/step - loss: 0.1809 - val_loss: 0.6522 - lr: 2.5000e-05\n",
      "Epoch 16/20\n",
      "7/8 [=========================>....] - ETA: 0s - loss: 0.1239\n",
      "Epoch 00016: val_loss improved from 0.65219 to 0.64646, saving model to ./saved_models/model.h5\n",
      "8/8 [==============================] - 0s 60ms/step - loss: 0.1293 - val_loss: 0.6465 - lr: 2.5000e-05\n",
      "Epoch 17/20\n",
      "7/8 [=========================>....] - ETA: 0s - loss: 0.2482\n",
      "Epoch 00017: val_loss improved from 0.64646 to 0.64584, saving model to ./saved_models/model.h5\n",
      "8/8 [==============================] - 0s 60ms/step - loss: 0.2207 - val_loss: 0.6458 - lr: 2.5000e-05\n",
      "Epoch 18/20\n",
      "7/8 [=========================>....] - ETA: 0s - loss: 0.1274\n",
      "Epoch 00018: val_loss did not improve from 0.64584\n",
      "8/8 [==============================] - 0s 32ms/step - loss: 0.1674 - val_loss: 0.6505 - lr: 2.5000e-05\n",
      "Epoch 19/20\n",
      "7/8 [=========================>....] - ETA: 0s - loss: 0.0954\n",
      "Epoch 00019: val_loss did not improve from 0.64584\n",
      "8/8 [==============================] - 0s 32ms/step - loss: 0.1037 - val_loss: 0.6573 - lr: 2.5000e-05\n",
      "Epoch 20/20\n",
      "7/8 [=========================>....] - ETA: 0s - loss: 0.1676\n",
      "Epoch 00020: val_loss did not improve from 0.64584\n",
      "\n",
      "Epoch 00020: ReduceLROnPlateau reducing learning rate to 1.249999968422344e-05.\n",
      "8/8 [==============================] - 0s 32ms/step - loss: 0.1812 - val_loss: 0.6623 - lr: 2.5000e-05\n"
     ]
    }
   ],
   "source": [
    "try:\n",
    "    model_history = model.fit(train_generator,\n",
    "                                steps_per_epoch = len(train_generator),\n",
    "                                epochs = 20,\n",
    "                                validation_data = validation_generator,\n",
    "                                validation_steps = len(validation_generator),\n",
    "                                verbose = 1,\n",
    "                                callbacks=[checkpoint, reducelr])\n",
    "except Exception as e:\n",
    "    err = e"
   ]
  },
  {
   "cell_type": "markdown",
   "metadata": {},
   "source": [
    "#### Plot training history"
   ]
  },
  {
   "cell_type": "code",
   "execution_count": 10,
   "metadata": {},
   "outputs": [
    {
     "data": {
      "image/png": "[encoded data removed]",
      "text/plain": [
       "<Figure size 432x288 with 1 Axes>"
      ]
     },
     "metadata": {
      "needs_background": "light"
     },
     "output_type": "display_data"
    }
   ],
   "source": [
    "import matplotlib.pyplot as plt\n",
    "plt.plot(model_history.history['loss'])\n",
    "plt.plot(model_history.history['val_loss'])\n",
    "plt.title('model loss')\n",
    "plt.ylabel('loss')\n",
    "plt.xlabel('epoch')\n",
    "plt.legend(['training', 'validation'], loc='upper left')\n",
    "plt.show()"
   ]
  },
  {
   "cell_type": "code",
   "execution_count": null,
   "metadata": {},
   "outputs": [],
   "source": []
  }
 ],
 "metadata": {
  "kernelspec": {
   "display_name": "Environment (conda_tensorflow2_p36)",
   "language": "python",
   "name": "conda_tensorflow2_p36"
  },
  "language_info": {
   "codemirror_mode": {
    "name": "ipython",
    "version": 3
   },
   "file_extension": ".py",
   "mimetype": "text/x-python",
   "name": "python",
   "nbconvert_exporter": "python",
   "pygments_lexer": "ipython3",
   "version": "3.6.10"
  }
 },
 "nbformat": 4,
 "nbformat_minor": 2
}
