{
 "cells": [
  {
   "cell_type": "markdown",
   "metadata": {},
   "source": [
    "## Generate npy for YAMNET input"
   ]
  },
  {
   "cell_type": "markdown",
   "metadata": {},
   "source": [
    "#### Setup"
   ]
  },
  {
   "cell_type": "code",
   "execution_count": 3,
   "metadata": {},
   "outputs": [],
   "source": [
    "import os\n",
    "os.sys.path.append('./audioset/yamnet')\n",
    "import params\n",
    "import features as features_lib\n",
    "\n",
    "import numpy as np\n",
    "import resampy\n",
    "import soundfile as sf\n",
    "import tensorflow as tf\n",
    "\n",
    "# Directory with wav files for each class\n",
    "train_dir = 'I:\\datasets/vehicle/dataset/test_set/slice/'\n",
    "# Directory that will store the spectrogram inputs for each class\n",
    "out_dir = 'I:\\datasets/vehicle/dataset/test_set/npy_mov_avg/'\n",
    "\n",
    "if not os.path.exists(out_dir):\n",
    "    os.mkdir(out_dir)\n",
    "    for i in os.listdir(train_dir):\n",
    "        os.mkdir(out_dir+i)"
   ]
  },
  {
   "cell_type": "markdown",
   "metadata": {},
   "source": [
    "#### Function for moving average in waveform"
   ]
  },
  {
   "cell_type": "code",
   "execution_count": 4,
   "metadata": {},
   "outputs": [],
   "source": [
    "def moving_average(x, w):\n",
    "    return np.convolve(x, np.ones(w), 'valid') / w"
   ]
  },
  {
   "cell_type": "markdown",
   "metadata": {},
   "source": [
    "#### Generate npy (90-s test set)"
   ]
  },
  {
   "cell_type": "code",
   "execution_count": null,
   "metadata": {},
   "outputs": [
    {
     "name": "stdout",
     "output_type": "stream",
     "text": [
      "pooks-26-may-2020\n"
     ]
    }
   ],
   "source": [
    "patch_sample = []\n",
    "moving_avg = True\n",
    "\n",
    "for site in os.listdir(train_dir):\n",
    "    print(site)\n",
    "    for time in os.listdir(train_dir+site):\n",
    "        audio_path = train_dir + site + '/' + time + '/'\n",
    "        dst_path = out_dir + site + '/' + time + '/'\n",
    "        if not os.path.exists(dst_path):\n",
    "            os.makedirs(dst_path)\n",
    "        for smp in os.listdir(audio_path):\n",
    "            wav_data, sr = sf.read(audio_path + smp, dtype=np.int16)\n",
    "            assert wav_data.dtype == np.int16, 'Bad sample type: %r' % wav_data.dtype\n",
    "            if(moving_avg):\n",
    "                wav_data = moving_average(wav_data, 3)\n",
    "            input_width = round(sr*.975)\n",
    "            shft = max(0, round((len(wav_data)-input_width)/2))\n",
    "            wav_data = wav_data[shft:shft+input_width]\n",
    "            waveform = wav_data / 32768.0\n",
    "            \n",
    "            if len(waveform.shape) > 1:\n",
    "                waveform = np.mean(waveform, axis=1)\n",
    "            if sr != params.SAMPLE_RATE:\n",
    "                waveform = resampy.resample(waveform, sr, params.SAMPLE_RATE)\n",
    "                \n",
    "            waveform = np.reshape(waveform, [1, -1]).astype(np.float32)\n",
    "            spectrogram = features_lib. \\\n",
    "                          waveform_to_log_mel_spectrogram(tf.squeeze(waveform, axis=0), \n",
    "                                                          params)\n",
    "            \n",
    "            patches = features_lib. \\\n",
    "                        spectrogram_to_patches(spectrogram, params)\n",
    "            patch_sample = tf.squeeze(patches)\n",
    "            np.save(dst_path+'/'+smp+'.npy', tf.squeeze(patches))\n",
    "\n",
    "print(patch_sample.shape)\n",
    "print(len(patch_sample))"
   ]
  },
  {
   "cell_type": "markdown",
   "metadata": {},
   "source": [
    "#### Generate npy (normal dataset)"
   ]
  },
  {
   "cell_type": "code",
   "execution_count": null,
   "metadata": {
    "tags": []
   },
   "outputs": [],
   "source": [
    "for cls in os.listdir(train_dir):\n",
    "    print(cls)\n",
    "    for smp in os.listdir(train_dir+cls):\n",
    "        wav_data, sr = sf.read(train_dir+cls+'/'+smp, dtype=np.int16)\n",
    "        assert wav_data.dtype == np.int16, 'Bad sample type: %r' % wav_data.dtype\n",
    "        input_width = round(sr*.975)\n",
    "        shft = max(0, round((len(wav_data)-input_width)/2))\n",
    "        wav_data = wav_data[shft:shft+input_width]\n",
    "        waveform = wav_data / 32768.0\n",
    "        \n",
    "        if len(waveform.shape) > 1:\n",
    "            waveform = np.mean(waveform, axis=1)\n",
    "        if sr != params.SAMPLE_RATE:\n",
    "            waveform = resampy.resample(waveform, sr, params.SAMPLE_RATE)\n",
    "            \n",
    "        waveform = np.reshape(waveform, [1, -1]).astype(np.float32)\n",
    "        spectrogram = features_lib. \\\n",
    "                      waveform_to_log_mel_spectrogram(tf.squeeze(waveform, axis=0), \n",
    "                                                      params)\n",
    "        patches = features_lib. \\\n",
    "                  spectrogram_to_patches(spectrogram, params)\n",
    "        \n",
    "        \n",
    "        np.save(out_dir+cls+'/'+smp+'.npy', tf.squeeze(patches))"
   ]
  }
 ],
 "metadata": {
  "kernelspec": {
   "display_name": "Python 3.7.7 64-bit",
   "language": "python",
   "name": "python37764bit8e68696bc27c4d998c1cd2e77e9d4786"
  },
  "language_info": {
   "codemirror_mode": {
    "name": "ipython",
    "version": 3
   },
   "file_extension": ".py",
   "mimetype": "text/x-python",
   "name": "python",
   "nbconvert_exporter": "python",
   "pygments_lexer": "ipython3",
   "version": "3.7.7"
  }
 },
 "nbformat": 4,
 "nbformat_minor": 2
}
