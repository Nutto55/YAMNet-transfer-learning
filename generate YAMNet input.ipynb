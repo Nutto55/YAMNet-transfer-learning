{
 "cells": [
  {
   "cell_type": "code",
   "execution_count": null,
   "metadata": {},
   "outputs": [],
   "source": [
    "import os\n",
    "os.sys.path.append('./models_dev/research/audioset/yamnet')\n",
    "import params\n",
    "import features as features_lib\n",
    "\n",
    "import numpy as np\n",
    "import resampy\n",
    "import soundfile as sf\n",
    "import tensorflow as tf\n",
    "\n",
    "# Directory with wav files for each class\n",
    "train_dir = './train_set/'\n",
    "# Directory that will store the spectrogram inputs for each class\n",
    "out_dir = './train_set_patches/'\n",
    "\n",
    "if not os.path.exists(out_dir):\n",
    "    os.mkdir(out_dir)\n",
    "    for i in os.listdir(train_dir):\n",
    "        os.mkdir(out_dir+i)"
   ]
  },
  {
   "cell_type": "code",
   "execution_count": null,
   "metadata": {},
   "outputs": [],
   "source": [
    "for cls in os.listdir(train_dir):\n",
    "    print(cls)\n",
    "    for smp in os.listdir(train_dir+cls)[:10]:\n",
    "        wav_data, sr = sf.read(train_dir+cls+'/'+smp, dtype=np.int16)\n",
    "        assert wav_data.dtype == np.int16, 'Bad sample type: %r' % wav_data.dtype\n",
    "        input_width = round(sr*.975)\n",
    "        shft = max(0, round((len(wav_data)-input_width)/2))\n",
    "        wav_data = wav_data[shft:shft+input_width]\n",
    "        waveform = wav_data / 32768.0\n",
    "        \n",
    "        if len(waveform.shape) > 1:\n",
    "            waveform = np.mean(waveform, axis=1)\n",
    "        if sr != params.SAMPLE_RATE:\n",
    "            waveform = resampy.resample(waveform, sr, params.SAMPLE_RATE)\n",
    "            \n",
    "        waveform = np.reshape(waveform, [1, -1]).astype(np.float32)\n",
    "        spectrogram = features_lib. \\\n",
    "                      waveform_to_log_mel_spectrogram(tf.squeeze(waveform, axis=0), \n",
    "                                                      params)\n",
    "        patches = features_lib. \\\n",
    "                  spectrogram_to_patches(spectrogram, params)\n",
    "        \n",
    "        \n",
    "        np.save(out_dir+cls+'/'+smp+'.npy', tf.squeeze(patches))"
   ]
  },
  {
   "cell_type": "code",
   "execution_count": null,
   "metadata": {},
   "outputs": [],
   "source": []
  }
 ],
 "metadata": {
  "kernelspec": {
   "display_name": "Environment (conda_tensorflow2_p36)",
   "language": "python",
   "name": "conda_tensorflow2_p36"
  },
  "language_info": {
   "codemirror_mode": {
    "name": "ipython",
    "version": 3
   },
   "file_extension": ".py",
   "mimetype": "text/x-python",
   "name": "python",
   "nbconvert_exporter": "python",
   "pygments_lexer": "ipython3",
   "version": "3.6.10"
  }
 },
 "nbformat": 4,
 "nbformat_minor": 2
}
