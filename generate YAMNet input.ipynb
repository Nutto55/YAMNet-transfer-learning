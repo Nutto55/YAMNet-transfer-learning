{
 "cells": [
  {
   "cell_type": "code",
   "execution_count": 1,
   "metadata": {},
   "outputs": [
    {
     "ename": "FileNotFoundError",
     "evalue": "[Errno 2] No such file or directory: './train_set/'",
     "output_type": "error",
     "traceback": [
      "\u001b[0;31m---------------------------------------------------------------------------\u001b[0m",
      "\u001b[0;31mFileNotFoundError\u001b[0m                         Traceback (most recent call last)",
      "\u001b[0;32m<ipython-input-1-cb83243209ad>\u001b[0m in \u001b[0;36m<module>\u001b[0;34m\u001b[0m\n\u001b[1;32m     14\u001b[0m \u001b[0;32mif\u001b[0m \u001b[0;32mnot\u001b[0m \u001b[0mos\u001b[0m\u001b[0;34m.\u001b[0m\u001b[0mpath\u001b[0m\u001b[0;34m.\u001b[0m\u001b[0mexists\u001b[0m\u001b[0;34m(\u001b[0m\u001b[0mout_dir\u001b[0m\u001b[0;34m)\u001b[0m\u001b[0;34m:\u001b[0m\u001b[0;34m\u001b[0m\u001b[0;34m\u001b[0m\u001b[0m\n\u001b[1;32m     15\u001b[0m     \u001b[0mos\u001b[0m\u001b[0;34m.\u001b[0m\u001b[0mmkdir\u001b[0m\u001b[0;34m(\u001b[0m\u001b[0mout_dir\u001b[0m\u001b[0;34m)\u001b[0m\u001b[0;34m\u001b[0m\u001b[0;34m\u001b[0m\u001b[0m\n\u001b[0;32m---> 16\u001b[0;31m     \u001b[0;32mfor\u001b[0m \u001b[0mi\u001b[0m \u001b[0;32min\u001b[0m \u001b[0mos\u001b[0m\u001b[0;34m.\u001b[0m\u001b[0mlistdir\u001b[0m\u001b[0;34m(\u001b[0m\u001b[0mtrain_dir\u001b[0m\u001b[0;34m)\u001b[0m\u001b[0;34m:\u001b[0m\u001b[0;34m\u001b[0m\u001b[0;34m\u001b[0m\u001b[0m\n\u001b[0m\u001b[1;32m     17\u001b[0m         \u001b[0mos\u001b[0m\u001b[0;34m.\u001b[0m\u001b[0mmkdir\u001b[0m\u001b[0;34m(\u001b[0m\u001b[0mout_dir\u001b[0m\u001b[0;34m+\u001b[0m\u001b[0mi\u001b[0m\u001b[0;34m)\u001b[0m\u001b[0;34m\u001b[0m\u001b[0;34m\u001b[0m\u001b[0m\n",
      "\u001b[0;31mFileNotFoundError\u001b[0m: [Errno 2] No such file or directory: './train_set/'"
     ]
    }
   ],
   "source": [
    "import os\n",
    "os.sys.path.append('./models/research/audioset/yamnet')\n",
    "import params\n",
    "import features as features_lib\n",
    "\n",
    "import numpy as np\n",
    "import resampy\n",
    "import soundfile as sf\n",
    "import tensorflow as tf\n",
    "\n",
    "# Directory with wav files for each class\n",
    "train_dir = './train_set/'\n",
    "# Directory that will store the spectrogram inputs for each class\n",
    "out_dir = './train_set_patches/'\n",
    "\n",
    "if not os.path.exists(out_dir):\n",
    "    os.mkdir(out_dir)\n",
    "    for i in os.listdir(train_dir):\n",
    "        os.mkdir(out_dir+i)"
   ]
  },
  {
   "cell_type": "code",
   "execution_count": 2,
   "metadata": {},
   "outputs": [
    {
     "name": "stdout",
     "output_type": "stream",
     "text": [
      "environment\n",
      "chainsaw\n"
     ]
    }
   ],
   "source": [
    "for cls in os.listdir(train_dir):\n",
    "    print(cls)\n",
    "    for smp in os.listdir(train_dir+cls)[:10]:\n",
    "        wav_data, sr = sf.read(train_dir+cls+'/'+smp, dtype=np.int16)\n",
    "        assert wav_data.dtype == np.int16, 'Bad sample type: %r' % wav_data.dtype\n",
    "        input_width = round(sr*.975)\n",
    "        shft = max(0, round((len(wav_data)-input_width)/2))\n",
    "        wav_data = wav_data[shft:shft+input_width]\n",
    "        waveform = wav_data / 32768.0\n",
    "        \n",
    "        if len(waveform.shape) > 1:\n",
    "            waveform = np.mean(waveform, axis=1)\n",
    "        if sr != params.SAMPLE_RATE:\n",
    "            waveform = resampy.resample(waveform, sr, params.SAMPLE_RATE)\n",
    "            \n",
    "        waveform = np.reshape(waveform, [1, -1]).astype(np.float32)\n",
    "        spectrogram = features_lib. \\\n",
    "                      waveform_to_log_mel_spectrogram(tf.squeeze(waveform, axis=0), \n",
    "                                                      params)\n",
    "        patches = features_lib. \\\n",
    "                  spectrogram_to_patches(spectrogram, params)\n",
    "        \n",
    "        \n",
    "        np.save(out_dir+cls+'/'+smp+'.npy', tf.squeeze(patches))"
   ]
  },
  {
   "cell_type": "code",
   "execution_count": null,
   "metadata": {},
   "outputs": [],
   "source": []
  }
 ],
 "metadata": {
  "kernelspec": {
   "display_name": "Environment (conda_tensorflow2_p36)",
   "language": "python",
   "name": "conda_tensorflow2_p36"
  }
 },
 "nbformat": 4,
 "nbformat_minor": 2
}
